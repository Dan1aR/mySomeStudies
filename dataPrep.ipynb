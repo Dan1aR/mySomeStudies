{
 "metadata": {
  "language_info": {
   "codemirror_mode": {
    "name": "ipython",
    "version": 3
   },
   "file_extension": ".py",
   "mimetype": "text/x-python",
   "name": "python",
   "nbconvert_exporter": "python",
   "pygments_lexer": "ipython3",
   "version": "3.8.5-final"
  },
  "orig_nbformat": 2,
  "kernelspec": {
   "name": "python3",
   "display_name": "Python 3.8.5 64-bit",
   "metadata": {
    "interpreter": {
     "hash": "31f2aee4e71d21fbe5cf8b01ff0e069b9275f58929596ceb00d14d90e3e16cd6"
    }
   }
  }
 },
 "nbformat": 4,
 "nbformat_minor": 2,
 "cells": [
  {
   "cell_type": "code",
   "execution_count": 13,
   "metadata": {},
   "outputs": [],
   "source": [
    "import pandas as pd\n",
    "import numpy as np\n",
    "import matplotlib.pyplot as plt\n",
    "from info_gain import info_gain\n",
    "from sklearn.feature_selection import chi2\n",
    "\n",
    "path = './data/'\n",
    "fileName = path + 'train'\n",
    "\n",
    "df = pd.read_csv(fileName + '.csv')"
   ]
  },
  {
   "cell_type": "code",
   "execution_count": 14,
   "metadata": {},
   "outputs": [],
   "source": [
    "def isFem(x):\n",
    "    if x == 'female':\n",
    "        return 1\n",
    "    return 0\n",
    "\n",
    "def toVowel(x):\n",
    "    v = ['a', 'e', 'i', 'o', 'y', 'u']\n",
    "    cn = 0\n",
    "    for c in x:\n",
    "        if c in v:\n",
    "            cn += 1\n",
    "    return cn\n",
    "\n",
    "def recodeEmbarked(x):\n",
    "    if x == 'S':\n",
    "        return 1\n",
    "    if x == 'C':\n",
    "        return 2\n",
    "    return 3"
   ]
  },
  {
   "cell_type": "code",
   "execution_count": 15,
   "metadata": {},
   "outputs": [
    {
     "output_type": "stream",
     "name": "stderr",
     "text": [
      "/home/dan1ar/.local/lib/python3.8/site-packages/pandas/core/series.py:726: RuntimeWarning: divide by zero encountered in log\n  result = getattr(ufunc, method)(*inputs, **kwargs)\n"
     ]
    }
   ],
   "source": [
    "#PREPORATOR\n",
    "df['SexQ'] = [isFem(x) for x in df.Sex]\n",
    "df['NameV'] = [toVowel(x) for x in df.Name]\n",
    "df.Embarked.fillna('S', inplace=True)\n",
    "df['TicketFC'] = [int(not x[0].isdigit()) for x in df.Ticket]\n",
    "df['EmbarkedQ'] = [recodeEmbarked(x) for x in df.Embarked]\n",
    "#df['FareXClass'] = df.Fare * (4 - df.Pclass)\n",
    "df.Fare = 10*np.log(df.Fare)\n",
    "\n",
    "df.drop('Sex', axis=1, inplace=True)\n",
    "df.drop('Cabin', axis=1, inplace=True)\n",
    "df.drop('PassengerId', axis=1, inplace=True)\n",
    "df.drop('Name', axis=1, inplace=True)\n",
    "df.drop('Ticket', axis=1, inplace=True)\n",
    "df.drop('Embarked', axis=1, inplace=True)"
   ]
  },
  {
   "cell_type": "code",
   "execution_count": 16,
   "metadata": {},
   "outputs": [
    {
     "output_type": "execute_result",
     "data": {
      "text/plain": [
       "   Survived  Pclass   Age  SibSp  Parch       Fare  SexQ  NameV  TicketFC  \\\n",
       "0         0       3  22.0      1      0  19.810015     0      5         1   \n",
       "1         1       1  38.0      1      0  42.666621     1     13         1   \n",
       "2         1       3  26.0      0      0  20.700223     1      8         1   \n",
       "3         1       1  35.0      1      0  39.721769     1     14         0   \n",
       "4         0       3  35.0      0      0  20.856721     0      6         0   \n",
       "\n",
       "   EmbarkedQ  \n",
       "0          1  \n",
       "1          2  \n",
       "2          1  \n",
       "3          1  \n",
       "4          1  "
      ],
      "text/html": "<div>\n<style scoped>\n    .dataframe tbody tr th:only-of-type {\n        vertical-align: middle;\n    }\n\n    .dataframe tbody tr th {\n        vertical-align: top;\n    }\n\n    .dataframe thead th {\n        text-align: right;\n    }\n</style>\n<table border=\"1\" class=\"dataframe\">\n  <thead>\n    <tr style=\"text-align: right;\">\n      <th></th>\n      <th>Survived</th>\n      <th>Pclass</th>\n      <th>Age</th>\n      <th>SibSp</th>\n      <th>Parch</th>\n      <th>Fare</th>\n      <th>SexQ</th>\n      <th>NameV</th>\n      <th>TicketFC</th>\n      <th>EmbarkedQ</th>\n    </tr>\n  </thead>\n  <tbody>\n    <tr>\n      <th>0</th>\n      <td>0</td>\n      <td>3</td>\n      <td>22.0</td>\n      <td>1</td>\n      <td>0</td>\n      <td>19.810015</td>\n      <td>0</td>\n      <td>5</td>\n      <td>1</td>\n      <td>1</td>\n    </tr>\n    <tr>\n      <th>1</th>\n      <td>1</td>\n      <td>1</td>\n      <td>38.0</td>\n      <td>1</td>\n      <td>0</td>\n      <td>42.666621</td>\n      <td>1</td>\n      <td>13</td>\n      <td>1</td>\n      <td>2</td>\n    </tr>\n    <tr>\n      <th>2</th>\n      <td>1</td>\n      <td>3</td>\n      <td>26.0</td>\n      <td>0</td>\n      <td>0</td>\n      <td>20.700223</td>\n      <td>1</td>\n      <td>8</td>\n      <td>1</td>\n      <td>1</td>\n    </tr>\n    <tr>\n      <th>3</th>\n      <td>1</td>\n      <td>1</td>\n      <td>35.0</td>\n      <td>1</td>\n      <td>0</td>\n      <td>39.721769</td>\n      <td>1</td>\n      <td>14</td>\n      <td>0</td>\n      <td>1</td>\n    </tr>\n    <tr>\n      <th>4</th>\n      <td>0</td>\n      <td>3</td>\n      <td>35.0</td>\n      <td>0</td>\n      <td>0</td>\n      <td>20.856721</td>\n      <td>0</td>\n      <td>6</td>\n      <td>0</td>\n      <td>1</td>\n    </tr>\n  </tbody>\n</table>\n</div>"
     },
     "metadata": {},
     "execution_count": 16
    }
   ],
   "source": [
    "df['Age'].fillna(df['Age'].median(), inplace = True)\n",
    "df.Fare.fillna(df.Fare.median(), inplace=True)\n",
    "df.head()"
   ]
  },
  {
   "cell_type": "code",
   "execution_count": 5,
   "metadata": {},
   "outputs": [],
   "source": [
    "#features = ['Survived', 'Pclass', 'Age', 'SexQ', 'Parch']\n",
    "#df = df[features]\n",
    "#df.head()"
   ]
  },
  {
   "cell_type": "code",
   "execution_count": 17,
   "metadata": {},
   "outputs": [
    {
     "output_type": "stream",
     "name": "stdout",
     "text": [
      "0  ::  0.3842662632375189\n1  ::  0.3826086956521739\n"
     ]
    }
   ],
   "source": [
    "# Вероятность выживания по классам\n",
    "for i in [0, 1]:\n",
    "    print(i, ' :: ', len(df.loc[(df.Survived == 1) & (df.TicketFC == i)]) / len(df.loc[df.TicketFC == i]))"
   ]
  },
  {
   "cell_type": "code",
   "execution_count": 18,
   "metadata": {},
   "outputs": [
    {
     "output_type": "stream",
     "name": "stdout",
     "text": [
      "0  ::  0.18890814558058924\n1  ::  0.7420382165605095\n"
     ]
    }
   ],
   "source": [
    "for i in [0, 1]:\n",
    "    print(i, ' :: ', len(df.loc[(df.Survived == 1) & (df.SexQ == i)]) / len(df.loc[df.SexQ == i]))"
   ]
  },
  {
   "cell_type": "code",
   "execution_count": 13,
   "metadata": {},
   "outputs": [
    {
     "output_type": "stream",
     "name": "stdout",
     "text": [
      "0  ::  0.34539473684210525\n1  ::  0.5358851674641149\n2  ::  0.4642857142857143\n3  ::  0.25\n4  ::  0.16666666666666666\n5  ::  0.0\n"
     ]
    }
   ],
   "source": [
    "for i in range(7):\n",
    "    if len(df.loc[df.SibSp == i]) != 0:\n",
    "        print(i, ' :: ', len(df.loc[(df.Survived == 1) & (df.SibSp == i)]) / len(df.loc[df.SibSp == i]))"
   ]
  },
  {
   "cell_type": "code",
   "execution_count": 12,
   "metadata": {},
   "outputs": [
    {
     "output_type": "stream",
     "name": "stdout",
     "text": [
      "0  ::  0.34365781710914456\n1  ::  0.5508474576271186\n2  ::  0.5\n3  ::  0.6\n4  ::  0.0\n5  ::  0.2\n6  ::  0.0\n"
     ]
    }
   ],
   "source": [
    "for i in range(7):\n",
    "    if len(df.loc[df.Parch == i]) != 0:\n",
    "        print(i, ' :: ', len(df.loc[(df.Survived == 1) & (df.Parch == i)]) / len(df.loc[df.Parch == i]))"
   ]
  },
  {
   "cell_type": "code",
   "execution_count": 9,
   "metadata": {},
   "outputs": [
    {
     "output_type": "stream",
     "name": "stdout",
     "text": [
      "1  ::  0.33900928792569657\n",
      "2  ::  0.5535714285714286\n",
      "3  ::  0.38961038961038963\n"
     ]
    }
   ],
   "source": [
    "for i in range(1, 4):\n",
    "    if len(df.loc[df.EmbarkedQ == i]) != 0:\n",
    "        print(i, ' :: ', len(df.loc[(df.Survived == 1) & (df.EmbarkedQ == i)]) / len(df.loc[df.EmbarkedQ == i]))"
   ]
  },
  {
   "cell_type": "code",
   "execution_count": 19,
   "metadata": {},
   "outputs": [
    {
     "output_type": "stream",
     "name": "stdout",
     "text": [
      "2  ::  7 :: 0.42857142857142855\n3  ::  45 :: 0.17777777777777778\n4  ::  114 :: 0.21929824561403508\n5  ::  133 :: 0.24060150375939848\n6  ::  140 :: 0.25\n7  ::  123 :: 0.3983739837398374\n8  ::  102 :: 0.4411764705882353\n9  ::  70 :: 0.5571428571428572\n10  ::  52 :: 0.6153846153846154\n11  ::  38 :: 0.6052631578947368\n12  ::  21 :: 0.6666666666666666\n13  ::  19 :: 0.7368421052631579\n14  ::  13 :: 0.8461538461538461\n15  ::  1 :: 1.0\n16  ::  5 :: 1.0\n17  ::  4 :: 0.75\n18  ::  1 :: 1.0\n19  ::  1 :: 0.0\n20  ::  1 :: 1.0\n29  ::  1 :: 1.0\n"
     ]
    }
   ],
   "source": [
    "for i in range(2, 30):\n",
    "    if len(df.loc[df.NameV == i]) != 0:\n",
    "        print(i, ' :: ', len(df.loc[df.NameV == i]), '::', len(df.loc[(df.Survived == 1) & (df.NameV == i)]) / len(df.loc[df.NameV == i]))"
   ]
  },
  {
   "cell_type": "code",
   "execution_count": 10,
   "metadata": {},
   "outputs": [],
   "source": [
    "df.to_csv(fileName + 'Data.csv', index=False)"
   ]
  }
 ]
}